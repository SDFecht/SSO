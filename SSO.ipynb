{
 "cells": [
  {
   "cell_type": "code",
   "execution_count": 1,
   "id": "2529d1d4",
   "metadata": {},
   "outputs": [],
   "source": [
    "import numpy as np\n",
    "np.set_printoptions(precision=4, suppress = True)\n",
    "from matplotlib import pyplot as plt"
   ]
  },
  {
   "cell_type": "code",
   "execution_count": 71,
   "id": "4f957228",
   "metadata": {},
   "outputs": [],
   "source": [
    "class SSO:\n",
    "    #initialization\n",
    "    def __init__(self, fction, Cw, Cp, Cg, maxGen, individuals, dimension):\n",
    "        self.Cw = Cw\n",
    "        self.Cp = Cp\n",
    "        self.Cg = Cg\n",
    "        self.maxGen = maxGen\n",
    "        self.individuals = individuals\n",
    "        self.dimension = dimension\n",
    "        self.counter = 0\n",
    "        if(fction.lower() == \"sphere\"):\n",
    "            self.fcode = 1\n",
    "            self.min = -5\n",
    "            self.max = 5\n",
    "        elif(fction.lower() == \"rastrigin\"):\n",
    "            self.fcode = 2\n",
    "            self.min = -5.12\n",
    "            self.max = 5.12\n",
    "        elif(fction.lower() == \"rosenbrock\"):\n",
    "            self.fcode = 3\n",
    "            self.min = -5\n",
    "            self.max = 5\n",
    "        elif(fction.lower() == \"schwefel\"):\n",
    "            self.fcode = 4\n",
    "            self.min = -500\n",
    "            self.max = 500\n",
    "        else:\n",
    "            raise Exception(\"There is not such kind of functions. Try one of theese: sphere, rastrigin, rosenbrock, schwefel\")\n",
    "        self.population = np.array([np.array([np.random.uniform(self.min, self.max) for _ in range(self.dimension)]) \n",
    "                                    for _ in range(self.individuals)])\n",
    "        self.population = self.__calculate_cost(self.population)\n",
    "        self.gbest = self.population[np.argmin(self.population[:,-1:])]\n",
    "        self.pbest = self.population\n",
    "        self.bestArray = np.array([self.gbest[-1:]]).flatten()\n",
    "        \n",
    "            \n",
    "    #raising the function counter\n",
    "    def __raise_counter(self):\n",
    "        self.counter += 1      \n",
    "        \n",
    "        \n",
    "    #built in Rastrinig function\n",
    "    def __rastrigin(self, x_np_arr, A = 10):\n",
    "        self.__raise_counter()\n",
    "        return np.array([A*self.dimension + np.sum(np.power(x_np_arr, 2) - A*np.cos(np.deg2rad(2*x_np_arr*np.pi)))])\n",
    "    \n",
    "    #built in Sphere function\n",
    "    def __sphere(self, x_np_arr):\n",
    "        self.__raise_counter()\n",
    "        return np.array([np.sum(np.power(x_np_arr, 2))])\n",
    "    \n",
    "    #built in Rosenbrock function\n",
    "    def __rosenbrock(self, x_np_arr):\n",
    "        self.__raise_counter()\n",
    "        return np.array([np.sum(100 * np.power(x_np_arr[1:] - np.power(x_np_arr[:-1], 2), 2) + np.power(1 - x_np_arr[:-1], 2))])\n",
    "    \n",
    "    #built in Schwefel function\n",
    "    def __schwefel(self, x_np_arr):\n",
    "        self.__raise_counter()\n",
    "        return np.array([(418.9829 * x_np_arr.size) - np.sum(x_np_arr * np.sin(np.sqrt(np.absolute(x_np_arr))))])\n",
    "    \n",
    "    #Calculate the cost, and hstack to the given array\n",
    "    def __calculate_cost(self, arr):\n",
    "        if self.fcode == 1:\n",
    "            return np.hstack((arr, [self.__sphere(x) for x in arr]))\n",
    "        elif self.fcode == 2:\n",
    "            return np.hstack((arr, [self.__rastrigin(x) for x in arr]))\n",
    "        elif self.fcode == 3:\n",
    "            return np.hstack((arr, [self.__rosenbrock(x) for x in arr]))\n",
    "        elif self.fcode == 4:\n",
    "            return np.hstack((arr, [self.__schwefel(x) for x in arr]))\n",
    "        else:\n",
    "            raise Exception(\"There is not such kind of functions. Try one of theese: sphere, rastrigin, rosenbrock, schwefel\")                                                                                        \n",
    "    \n",
    "    #calculate global best\n",
    "    def __gbest_fn(self):\n",
    "        tmp = self.population[np.argmin(self.population[:,-1:])]\n",
    "        self.bestArray = np.append(self.bestArray, tmp[-1:].flatten())\n",
    "        return tmp\n",
    "    \n",
    "    #main algorithm\n",
    "    def __main_algorithm_sso(self):\n",
    "        #split the pop\n",
    "        ind = self.population[:,:-1]\n",
    "        fittness_values = self.population[:,-1:]\n",
    "        #make the random numbers, random values, and gbest ndarray\n",
    "        tmp_rnd = np.array([np.array([np.random.rand() for _ in range(self.dimension)]) \n",
    "                                    for _ in range(self.individuals)])\n",
    "        tmp_rnd_values = np.array([np.array([np.random.uniform(self.min, self.max) for _ in range(self.dimension)]) \n",
    "                                    for _ in range(self.individuals)])\n",
    "        tmp_gbest_values = np.array([self.gbest[:-1] for _ in range(self.individuals)])\n",
    "\n",
    "        #change the individuals according the given probability\n",
    "        ind = np.where(tmp_rnd <= self.Cw, ind, self.pbest[:, :-1])\n",
    "        ind = np.where(tmp_rnd <= self.Cp, ind, tmp_gbest_values)\n",
    "        ind = np.where(tmp_rnd <= self.Cg, ind, tmp_rnd_values)\n",
    "        \n",
    "        #save the new population\n",
    "        self.population = self.__calculate_cost(ind)\n",
    "        \n",
    "        #save the new global best\n",
    "        self.gbest = self.__gbest_fn()\n",
    "        #save the new personal best\n",
    "        indices = np.argwhere(fittness_values.flatten() > self.population[:,-1:].flatten()).flatten()\n",
    "        self.pbest[indices] = self.population[indices]\n",
    "                \n",
    "    def calculate_SSO(self):\n",
    "        for i in range(self.maxGen - 1):\n",
    "            self.__main_algorithm_sso()\n",
    "        \n",
    "        return self.gbest, self.bestArray, self.counter"
   ]
  },
  {
   "cell_type": "code",
   "execution_count": 85,
   "id": "6421705a",
   "metadata": {},
   "outputs": [
    {
     "name": "stdout",
     "output_type": "stream",
     "text": [
      "[-0.0875 -0.081   0.0571 -0.0045 -0.0794  0.0484 -0.0716  0.0053 -0.0781\n",
      " -0.0135  0.0805 -0.0714  0.0494  0.0603 -0.2946  0.0641 -0.0466  0.0332\n",
      " -0.036   0.0431  0.1526]\n",
      "35000\n"
     ]
    },
    {
     "data": {
      "image/png": "[encoded data removed]",
      "text/plain": [
       "<Figure size 640x480 with 1 Axes>"
      ]
     },
     "metadata": {},
     "output_type": "display_data"
    }
   ],
   "source": [
    "sso = SSO(\"sphere\", 0.55, 0.75, 0.95, 500, 70, 20)\n",
    "globalBest, bestArray, counter = sso.calculate_SSO()\n",
    "plt.plot(range(0, 500), bestArray)\n",
    "print(globalBest)\n",
    "print(counter)"
   ]
  },
  {
   "cell_type": "code",
   "execution_count": null,
   "id": "d2d3b7fd",
   "metadata": {},
   "outputs": [],
   "source": []
  },
  {
   "cell_type": "code",
   "execution_count": null,
   "id": "13018ea4",
   "metadata": {},
   "outputs": [],
   "source": []
  },
  {
   "cell_type": "code",
   "execution_count": null,
   "id": "9feb60d7",
   "metadata": {},
   "outputs": [],
   "source": []
  },
  {
   "cell_type": "code",
   "execution_count": null,
   "id": "6583207f",
   "metadata": {},
   "outputs": [],
   "source": []
  },
  {
   "cell_type": "code",
   "execution_count": null,
   "id": "6f872a45",
   "metadata": {},
   "outputs": [],
   "source": []
  },
  {
   "cell_type": "code",
   "execution_count": null,
   "id": "6cab52c8",
   "metadata": {},
   "outputs": [],
   "source": []
  },
  {
   "cell_type": "code",
   "execution_count": null,
   "id": "26bb1c34",
   "metadata": {},
   "outputs": [],
   "source": []
  },
  {
   "cell_type": "code",
   "execution_count": null,
   "id": "be40a43d",
   "metadata": {},
   "outputs": [],
   "source": []
  },
  {
   "cell_type": "code",
   "execution_count": null,
   "id": "65496e1c",
   "metadata": {},
   "outputs": [],
   "source": []
  },
  {
   "cell_type": "code",
   "execution_count": null,
   "id": "31d7eb2b",
   "metadata": {},
   "outputs": [],
   "source": []
  },
  {
   "cell_type": "code",
   "execution_count": null,
   "id": "cc2f2966",
   "metadata": {},
   "outputs": [],
   "source": []
  }
 ],
 "metadata": {
  "kernelspec": {
   "display_name": "Python 3 (ipykernel)",
   "language": "python",
   "name": "python3"
  },
  "language_info": {
   "codemirror_mode": {
    "name": "ipython",
    "version": 3
   },
   "file_extension": ".py",
   "mimetype": "text/x-python",
   "name": "python",
   "nbconvert_exporter": "python",
   "pygments_lexer": "ipython3",
   "version": "3.10.8"
  }
 },
 "nbformat": 4,
 "nbformat_minor": 5
}
